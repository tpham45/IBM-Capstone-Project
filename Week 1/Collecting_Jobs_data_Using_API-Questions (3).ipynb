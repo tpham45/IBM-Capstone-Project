{
 "cells": [
  {
   "cell_type": "markdown",
   "metadata": {},
   "source": [
    "<p style=\"text-align:center\">\n",
    "    <a href=\"https://skills.network/?utm_medium=Exinfluencer&utm_source=Exinfluencer&utm_content=000026UJ&utm_term=10006555&utm_id=NA-SkillsNetwork-Channel-SkillsNetworkCoursesIBMDA0321ENSkillsNetwork928-2022-01-01\" target=\"_blank\">\n",
    "    <img src=\"https://cf-courses-data.s3.us.cloud-object-storage.appdomain.cloud/assets/logos/SN_web_lightmode.png\" width=\"200\" alt=\"Skills Network Logo\"  />\n",
    "    </a>\n",
    "</p>\n"
   ]
  },
  {
   "cell_type": "markdown",
   "metadata": {},
   "source": [
    "# **Collecting Job Data Using APIs**\n"
   ]
  },
  {
   "cell_type": "markdown",
   "metadata": {},
   "source": [
    "Estimated time needed: **45 to 60** minutes\n"
   ]
  },
  {
   "cell_type": "markdown",
   "metadata": {},
   "source": [
    "## Objectives\n"
   ]
  },
  {
   "cell_type": "markdown",
   "metadata": {},
   "source": [
    "After completing this lab, you will be able to:\n"
   ]
  },
  {
   "cell_type": "markdown",
   "metadata": {},
   "source": [
    "*   Collect job data from Jobs API\n",
    "*   Store the collected data into an excel spreadsheet.\n"
   ]
  },
  {
   "cell_type": "markdown",
   "metadata": {},
   "source": [
    "><strong>Note: Before starting with the assignment make sure to read all the instructions and then move ahead with the coding part.</strong>\n"
   ]
  },
  {
   "cell_type": "markdown",
   "metadata": {},
   "source": [
    "#### Instructions\n"
   ]
  },
  {
   "cell_type": "markdown",
   "metadata": {},
   "source": [
    "To run the actual lab, firstly you need to click on the [Jobs_API](https://cf-courses-data.s3.us.cloud-object-storage.appdomain.cloud/IBM-DA0321EN-SkillsNetwork/labs/module%201/Accessing%20Data%20Using%20APIs/Jobs_API.ipynb) notebook link. The file contains flask code which is required to run the Jobs API data.\n",
    "\n",
    "Now, to run the code in the file that opens up follow the below steps.\n",
    "\n",
    "Step1: Download the file. \n",
    "\n",
    "Step2: Upload it on the IBM Watson studio. (If IBM Watson Cloud service does not work in your system, follow the alternate Step 2 below)\n",
    "\n",
    "Step2(alternate): Upload it in your SN labs environment using the upload button which is highlighted in red in the image below:\n",
    "Remember to upload this Jobs_API file in the same folder as your current .ipynb file\n",
    "\n",
    "<img src=\"https://cf-courses-data.s3.us.cloud-object-storage.appdomain.cloud/IBM-DA0321EN-SkillsNetwork/labs/module%201/Accessing%20Data%20Using%20APIs/Upload.PNG\">\n",
    "\n",
    "Step3:  Run all the cells of the Jobs_API file. (Even if you receive an asterik sign after running the last cell, the code works fine.)\n",
    "\n",
    "If you want to learn more about flask, which is optional, you can click on this link [here](https://cf-courses-data.s3.us.cloud-object-storage.appdomain.cloud/IBM-DA0321EN-SkillsNetwork/labs/module%201/Accessing%20Data%20Using%20APIs/FLASK_API.md.html).\n",
    "\n",
    "Once you run the flask code, you can start with your assignment.\n"
   ]
  },
  {
   "cell_type": "markdown",
   "metadata": {},
   "source": [
    "## Dataset Used in this Assignment\n",
    "\n",
    "The dataset used in this lab comes from the following source: https://www.kaggle.com/promptcloud/jobs-on-naukricom under the under a **Public Domain license**.\n",
    "\n",
    "> Note: We are using a modified subset of that dataset for the lab, so to follow the lab instructions successfully please use the dataset provided with the lab, rather than the dataset from the original source.\n",
    "\n",
    "The original dataset is a csv. We have converted the csv to json as per the requirement of the lab.\n"
   ]
  },
  {
   "cell_type": "markdown",
   "metadata": {},
   "source": [
    "## Warm-Up Exercise\n"
   ]
  },
  {
   "cell_type": "markdown",
   "metadata": {},
   "source": [
    "Before you attempt the actual lab, here is a fully solved warmup exercise that will help you to learn how to access an API.\n"
   ]
  },
  {
   "cell_type": "markdown",
   "metadata": {},
   "source": [
    "Using an API, let us find out who currently are on the International Space Station (ISS).<br> The API at [http://api.open-notify.org/astros.json](http://api.open-notify.org/astros.json?utm_medium=Exinfluencer&utm_source=Exinfluencer&utm_content=000026UJ&utm_term=10006555&utm_id=NA-SkillsNetwork-Channel-SkillsNetworkCoursesIBMDA0321ENSkillsNetwork21426264-2021-01-01&cm_mmc=Email_Newsletter-_-Developer_Ed%2BTech-_-WW_WW-_-SkillsNetwork-Courses-IBM-DA0321EN-SkillsNetwork-21426264&cm_mmca1=000026UJ&cm_mmca2=10006555&cm_mmca3=M12345678&cvosrc=email.Newsletter.M12345678&cvo_campaign=000026UJ) gives us the information of astronauts currently on ISS in json format.<br>\n",
    "You can read more about this API at [http://open-notify.org/Open-Notify-API/People-In-Space/](http://open-notify.org/Open-Notify-API/People-In-Space?utm_medium=Exinfluencer&utm_source=Exinfluencer&utm_content=000026UJ&utm_term=10006555&utm_id=NA-SkillsNetwork-Channel-SkillsNetworkCoursesIBMDA0321ENSkillsNetwork21426264-2021-01-01&cm_mmc=Email_Newsletter-_-Developer_Ed%2BTech-_-WW_WW-_-SkillsNetwork-Courses-IBM-DA0321EN-SkillsNetwork-21426264&cm_mmca1=000026UJ&cm_mmca2=10006555&cm_mmca3=M12345678&cvosrc=email.Newsletter.M12345678&cvo_campaign=000026UJ)\n"
   ]
  },
  {
   "cell_type": "code",
   "execution_count": 1,
   "metadata": {},
   "outputs": [],
   "source": [
    "import requests # you need this module to make an API call\n",
    "import pandas as pd"
   ]
  },
  {
   "cell_type": "code",
   "execution_count": 2,
   "metadata": {},
   "outputs": [],
   "source": [
    "api_url = \"http://api.open-notify.org/astros.json\" # this url gives use the astronaut data"
   ]
  },
  {
   "cell_type": "code",
   "execution_count": 3,
   "metadata": {},
   "outputs": [],
   "source": [
    "response = requests.get(api_url) # Call the API using the get method and store the\n",
    "                                # output of the API call in a variable called response."
   ]
  },
  {
   "cell_type": "code",
   "execution_count": 4,
   "metadata": {},
   "outputs": [],
   "source": [
    "if response.ok:             # if all is well() no errors, no network timeouts)\n",
    "    data = response.json()  # store the result in json format in a variable called data\n",
    "                            # the variable data is of type dictionary."
   ]
  },
  {
   "cell_type": "code",
   "execution_count": 5,
   "metadata": {},
   "outputs": [
    {
     "data": {
      "text/plain": [
       "{'message': 'success',\n",
       " 'number': 14,\n",
       " 'people': [{'craft': 'ISS', 'name': 'Sergey Prokopyev'},\n",
       "  {'craft': 'ISS', 'name': 'Dmitry Petelin'},\n",
       "  {'craft': 'ISS', 'name': 'Frank Rubio'},\n",
       "  {'craft': 'ISS', 'name': 'Nicole Mann'},\n",
       "  {'craft': 'ISS', 'name': 'Josh Cassada'},\n",
       "  {'craft': 'ISS', 'name': 'Koichi Wakata'},\n",
       "  {'craft': 'ISS', 'name': 'Anna Kikina'},\n",
       "  {'craft': 'Shenzhou 15', 'name': 'Fei Junlong'},\n",
       "  {'craft': 'Shenzhou 15', 'name': 'Deng Qingming'},\n",
       "  {'craft': 'Shenzhou 15', 'name': 'Zhang Lu'},\n",
       "  {'craft': 'ISS', 'name': 'Stephen Bowen'},\n",
       "  {'craft': 'ISS', 'name': 'Warren Hoburg'},\n",
       "  {'craft': 'ISS', 'name': 'Sultan Alneyadi'},\n",
       "  {'craft': 'ISS', 'name': 'Andrey Fedyaev'}]}"
      ]
     },
     "execution_count": 5,
     "metadata": {},
     "output_type": "execute_result"
    }
   ],
   "source": [
    "data"
   ]
  },
  {
   "cell_type": "code",
   "execution_count": 6,
   "metadata": {},
   "outputs": [
    {
     "name": "stdout",
     "output_type": "stream",
     "text": [
      "{'message': 'success', 'number': 14, 'people': [{'craft': 'ISS', 'name': 'Sergey Prokopyev'}, {'craft': 'ISS', 'name': 'Dmitry Petelin'}, {'craft': 'ISS', 'name': 'Frank Rubio'}, {'craft': 'ISS', 'name': 'Nicole Mann'}, {'craft': 'ISS', 'name': 'Josh Cassada'}, {'craft': 'ISS', 'name': 'Koichi Wakata'}, {'craft': 'ISS', 'name': 'Anna Kikina'}, {'craft': 'Shenzhou 15', 'name': 'Fei Junlong'}, {'craft': 'Shenzhou 15', 'name': 'Deng Qingming'}, {'craft': 'Shenzhou 15', 'name': 'Zhang Lu'}, {'craft': 'ISS', 'name': 'Stephen Bowen'}, {'craft': 'ISS', 'name': 'Warren Hoburg'}, {'craft': 'ISS', 'name': 'Sultan Alneyadi'}, {'craft': 'ISS', 'name': 'Andrey Fedyaev'}]}\n"
     ]
    }
   ],
   "source": [
    "print(data)   # print the data just to check the output or for debugging"
   ]
  },
  {
   "cell_type": "markdown",
   "metadata": {},
   "source": [
    "Print the number of astronauts currently on ISS.\n"
   ]
  },
  {
   "cell_type": "code",
   "execution_count": 13,
   "metadata": {},
   "outputs": [
    {
     "name": "stdout",
     "output_type": "stream",
     "text": [
      "14\n"
     ]
    }
   ],
   "source": [
    "print(data.get('number'))"
   ]
  },
  {
   "cell_type": "markdown",
   "metadata": {},
   "source": [
    "Print the names of the astronauts currently on ISS.\n"
   ]
  },
  {
   "cell_type": "code",
   "execution_count": 14,
   "metadata": {},
   "outputs": [
    {
     "name": "stdout",
     "output_type": "stream",
     "text": [
      "There are 14 astronauts on ISS\n",
      "And their names are :\n",
      "Sergey Prokopyev\n",
      "Dmitry Petelin\n",
      "Frank Rubio\n",
      "Nicole Mann\n",
      "Josh Cassada\n",
      "Koichi Wakata\n",
      "Anna Kikina\n",
      "Fei Junlong\n",
      "Deng Qingming\n",
      "Zhang Lu\n",
      "Stephen Bowen\n",
      "Warren Hoburg\n",
      "Sultan Alneyadi\n",
      "Andrey Fedyaev\n"
     ]
    }
   ],
   "source": [
    "astronauts = data.get('people')\n",
    "print(\"There are {} astronauts on ISS\".format(len(astronauts)))\n",
    "print(\"And their names are :\")\n",
    "for astronaut in astronauts:\n",
    "    print(astronaut.get('name'))"
   ]
  },
  {
   "cell_type": "markdown",
   "metadata": {},
   "source": [
    "Hope the warmup was helpful. Good luck with your next lab!\n"
   ]
  },
  {
   "cell_type": "markdown",
   "metadata": {},
   "source": [
    "## Lab: Collect Jobs Data using Jobs API\n"
   ]
  },
  {
   "cell_type": "markdown",
   "metadata": {},
   "source": [
    "### Objective: Determine the number of jobs currently open for various technologies  and for various locations\n"
   ]
  },
  {
   "cell_type": "markdown",
   "metadata": {},
   "source": [
    "Collect the number of job postings for the following locations using the API:\n",
    "\n",
    "* Los Angeles\n",
    "* New York\n",
    "* San Francisco\n",
    "* Washington DC\n",
    "* Seattle\n",
    "* Austin\n",
    "* Detroit\n"
   ]
  },
  {
   "cell_type": "code",
   "execution_count": 7,
   "metadata": {},
   "outputs": [],
   "source": [
    "#Import required libraries\n",
    "import pandas as pd\n",
    "import json"
   ]
  },
  {
   "cell_type": "markdown",
   "metadata": {},
   "source": [
    "#### Write a function to get the number of jobs for the Python technology.<br>\n",
    "> Note: While using the lab you need to pass the **payload** information for the **params** attribute in the form of **key** **value** pairs.\n",
    "  Refer the ungraded **rest api lab** in the course **Python for Data Science, AI & Development**  <a href=\"https://www.coursera.org/learn/python-for-applied-data-science-ai/ungradedLti/P6sW8/hands-on-lab-access-rest-apis-request-http?utm_medium=Exinfluencer&utm_source=Exinfluencer&utm_content=000026UJ&utm_term=10006555&utm_id=NA-SkillsNetwork-Channel-SkillsNetworkCoursesIBMDA0321ENSkillsNetwork928-2022-01-01\">link</a>\n",
    "  \n",
    " ##### The keys in the json are \n",
    " * Job Title\n",
    " \n",
    " * Job Experience Required\n",
    " \n",
    " * Key Skills\n",
    " \n",
    " * Role Category\n",
    " \n",
    " * Location\n",
    " \n",
    " * Functional Area\n",
    " \n",
    " * Industry\n",
    " \n",
    " * Role \n",
    " \n",
    "You can also view  the json file contents  from the following <a href = \"https://cf-courses-data.s3.us.cloud-object-storage.appdomain.cloud/IBM-DA0321EN-SkillsNetwork/labs/module%201/Accessing%20Data%20Using%20APIs/jobs.json\">json</a> URL.\n"
   ]
  },
  {
   "cell_type": "code",
   "execution_count": 10,
   "metadata": {},
   "outputs": [],
   "source": [
    "def get_number_of_jobs_T(technology):\n",
    "    api_url=\"http://127.0.0.1:5000/data\" #URL endpoint for the data route in the Flask application.\n",
    "    \n",
    "    payload={\"Key Skills\": technology} #set dictionary for Key skills\n",
    "                                        #payload  is a dictionary variable used to \n",
    "                                        #store data that will be sent in an HTTP request. \n",
    "            \n",
    "    response=requests.get(api_url, params=payload) \n",
    "    #requests.get allows you to send HTTP GET   \n",
    "    #request to a specified URL and returns a response object.\n",
    "\n",
    "    \n",
    "    if response.ok: #mean http can upload\n",
    "        data=response.json() #.json() is the method for request HTTP response as json format\n",
    "#         print(data)\n",
    "        number_of_jobs = len(data) #asign variable 'number_of_jobs' to access the numbers \n",
    "                                    #of jobs that returned from API in my code\n",
    "    #your code goes here\n",
    "    return technology,number_of_jobs "
   ]
  },
  {
   "cell_type": "markdown",
   "metadata": {},
   "source": [
    "Calling the function for Python and checking if it works.\n"
   ]
  },
  {
   "cell_type": "code",
   "execution_count": 11,
   "metadata": {},
   "outputs": [
    {
     "data": {
      "text/plain": [
       "('Python', 1173)"
      ]
     },
     "execution_count": 11,
     "metadata": {},
     "output_type": "execute_result"
    }
   ],
   "source": [
    "get_number_of_jobs_T(\"Python\")"
   ]
  },
  {
   "cell_type": "code",
   "execution_count": 14,
   "metadata": {},
   "outputs": [],
   "source": [
    "df =get_number_of_jobs_T"
   ]
  },
  {
   "cell_type": "code",
   "execution_count": 16,
   "metadata": {},
   "outputs": [
    {
     "ename": "AttributeError",
     "evalue": "'function' object has no attribute 'head'",
     "output_type": "error",
     "traceback": [
      "\u001b[0;31m---------------------------------------------------------------------------\u001b[0m",
      "\u001b[0;31mAttributeError\u001b[0m                            Traceback (most recent call last)",
      "Input \u001b[0;32mIn [16]\u001b[0m, in \u001b[0;36m<cell line: 1>\u001b[0;34m()\u001b[0m\n\u001b[0;32m----> 1\u001b[0m \u001b[43mdf\u001b[49m\u001b[38;5;241;43m.\u001b[39;49m\u001b[43mhead\u001b[49m()\n",
      "\u001b[0;31mAttributeError\u001b[0m: 'function' object has no attribute 'head'"
     ]
    }
   ],
   "source": [
    "df.head()"
   ]
  },
  {
   "cell_type": "markdown",
   "metadata": {},
   "source": [
    "#### Write a function to find number of jobs in US for a location of your choice\n"
   ]
  },
  {
   "cell_type": "code",
   "execution_count": 13,
   "metadata": {},
   "outputs": [],
   "source": [
    "def get_number_of_jobs_L(location):\n",
    "    payload={\"Location\": location}\n",
    "    response=requests.get(api_url, params=payload)\n",
    "    if response.ok:\n",
    "        data=response.json()\n",
    "#         print(data)\n",
    "        number_of_jobs = len(data)\n",
    "    #your coe goes here\n",
    "    return location,number_of_jobs"
   ]
  },
  {
   "cell_type": "markdown",
   "metadata": {},
   "source": [
    "Call the function for Los Angeles and check if it is working.\n",
    "\n",
    "\n"
   ]
  },
  {
   "cell_type": "code",
   "execution_count": 14,
   "metadata": {},
   "outputs": [
    {
     "data": {
      "text/plain": [
       "('Los Angeles', 640)"
      ]
     },
     "execution_count": 14,
     "metadata": {},
     "output_type": "execute_result"
    }
   ],
   "source": [
    "#your code goes here\n",
    "get_number_of_jobs_L(\"Los Angeles\")"
   ]
  },
  {
   "cell_type": "code",
   "execution_count": 27,
   "metadata": {},
   "outputs": [],
   "source": [
    "locations=[\"Los Angeles\", \"New York\", \"San Francisco\", \"Washington DC\", \"Seattle\"]\n",
    "\n",
    "\n",
    "def get_number_of_jobs_Loc_list(locations):\n",
    "    number_of_jobs_list = []\n",
    "    max_jobs_location = None\n",
    "    max_jobs = -1\n",
    "    for location in locations:\n",
    "        payload={\"Location\":location}\n",
    "        response=requests.get(api_url, params=payload)\n",
    "        if response.ok:\n",
    "            data=response.json()\n",
    "            number_of_jobs = len(data)\n",
    "            number_of_jobs_list.append({location: number_of_jobs})\n",
    "            if number_of_jobs > max_jobs:\n",
    "                max_jobs = number_of_jobs\n",
    "                max_jobs_location = location\n",
    "            \n",
    "    return number_of_jobs_list, max_jobs_location\n",
    "\n",
    "def number_of_job(locations):\n",
    "    number_of_jobs_list = []\n",
    "    for location in locations:\n",
    "        payload={\"Location\":location}\n",
    "        response=requests.get(api_url, params=payload)\n",
    "        if response.ok:\n",
    "            data=response.json()\n",
    "            number_of_jobs = len(data)\n",
    "            number_of_jobs_list.append({location: number_of_jobs})\n",
    "            \n",
    "    return number_of_jobs_list\n"
   ]
  },
  {
   "cell_type": "code",
   "execution_count": 29,
   "metadata": {},
   "outputs": [
    {
     "data": {
      "text/plain": [
       "'Washington DC'"
      ]
     },
     "execution_count": 29,
     "metadata": {},
     "output_type": "execute_result"
    }
   ],
   "source": [
    "get_location_with_most_jobs (locations)\n"
   ]
  },
  {
   "cell_type": "code",
   "execution_count": 28,
   "metadata": {},
   "outputs": [
    {
     "data": {
      "text/plain": [
       "[{'Los Angeles': 640},\n",
       " {'New York': 3226},\n",
       " {'San Francisco': 435},\n",
       " {'Washington DC': 5316},\n",
       " {'Seattle': 3375}]"
      ]
     },
     "execution_count": 28,
     "metadata": {},
     "output_type": "execute_result"
    }
   ],
   "source": [
    "number_of_job (locations)"
   ]
  },
  {
   "cell_type": "markdown",
   "metadata": {},
   "source": [
    "### Store the results in an excel file\n"
   ]
  },
  {
   "cell_type": "markdown",
   "metadata": {},
   "source": [
    "Call the API for all the given technologies above and write the results in an excel spreadsheet.\n"
   ]
  },
  {
   "cell_type": "markdown",
   "metadata": {},
   "source": [
    "If you do not know how create excel file using python, double click here for **hints**.\n",
    "\n",
    "<!--\n",
    "\n",
    "from openpyxl import Workbook        # import Workbook class from module openpyxl\n",
    "wb=Workbook()                        # create a workbook object\n",
    "ws=wb.active                         # use the active worksheet\n",
    "ws.append(['Country','Continent'])   # add a row with two columns 'Country' and 'Continent'\n",
    "ws.append(['Eygpt','Africa'])        # add a row with two columns 'Egypt' and 'Africa'\n",
    "ws.append(['India','Asia'])          # add another row\n",
    "ws.append(['France','Europe'])       # add another row\n",
    "wb.save(\"countries.xlsx\")            # save the workbook into a file called countries.xlsx\n",
    "\n",
    "\n",
    "-->\n"
   ]
  },
  {
   "cell_type": "markdown",
   "metadata": {},
   "source": [
    "Create a python list of all locations for which you need to find the number of jobs postings.\n"
   ]
  },
  {
   "cell_type": "code",
   "execution_count": 34,
   "metadata": {},
   "outputs": [],
   "source": [
    "#your code goes here\n",
    "states = ['Los Angeles', 'New York', 'San Francisco', 'Washington DC', 'Seattle', 'Austin', 'Detroit']\n"
   ]
  },
  {
   "cell_type": "markdown",
   "metadata": {},
   "source": [
    "Import libraries required to create excel spreadsheet\n"
   ]
  },
  {
   "cell_type": "code",
   "execution_count": 35,
   "metadata": {},
   "outputs": [],
   "source": [
    "# your code goes here\n",
    "from openpyxl import Workbook\n",
    "#library for manipulate excel spreadsheets\n",
    "\n"
   ]
  },
  {
   "cell_type": "markdown",
   "metadata": {},
   "source": [
    "Create a workbook and select the active worksheet\n"
   ]
  },
  {
   "cell_type": "code",
   "execution_count": 36,
   "metadata": {},
   "outputs": [],
   "source": [
    "# your code goes here\n",
    "wb=Workbook()  # create a workbook object\n",
    "ws=wb.active  # use the active worksheet\n",
    "ws.append (states) #add a list of states\n"
   ]
  },
  {
   "cell_type": "markdown",
   "metadata": {},
   "source": [
    "Find the number of jobs postings for each of the location in the above list.\n",
    "Write the Location name and the number of jobs postings into the excel spreadsheet.\n"
   ]
  },
  {
   "cell_type": "code",
   "execution_count": 45,
   "metadata": {},
   "outputs": [
    {
     "data": {
      "text/plain": [
       "[24, 143, 17, 258, 133, 15, 170]"
      ]
     },
     "execution_count": 45,
     "metadata": {},
     "output_type": "execute_result"
    }
   ],
   "source": [
    "#your code goes here\n",
    "def get_number_of_jobs_TL(technology, states):\n",
    "    # Create an empty list to store the number of jobs for each state\n",
    "    number_of_jobs_list = []\n",
    "    # Loop over each state in the given list of states\n",
    "    for location in states:\n",
    "        # Set up the API request payload with the specified technology and location\n",
    "        payload={\"Key Skills\": technology, \"Location\": location}\n",
    "        # Send a GET request to the API with the specified payload\n",
    "        response=requests.get(api_url, params=payload)\n",
    "        # Check if the response status code is OK (200)\n",
    "        if response.ok:\n",
    "            # If the response is OK, extract the JSON data from the response\n",
    "            data=response.json()\n",
    "            # Get the length of the data, which represents the number of jobs for the specified location\n",
    "            number_of_jobs = len(data)\n",
    "            # Append the number of jobs to the list\n",
    "            number_of_jobs_list.append(number_of_jobs)\n",
    "    # Return the final list of number of jobs for each state\n",
    "    return number_of_jobs_list\n",
    "\n",
    "get_number_of_jobs_TL(\"Python\", states)"
   ]
  },
  {
   "cell_type": "markdown",
   "metadata": {},
   "source": [
    "Save into an excel spreadsheet named 'job-postings.xlsx'.\n"
   ]
  },
  {
   "cell_type": "code",
   "execution_count": 46,
   "metadata": {},
   "outputs": [],
   "source": [
    "#your code goes here\n",
    "wb.save ('job-postings.xlsx')"
   ]
  },
  {
   "cell_type": "code",
   "execution_count": null,
   "metadata": {},
   "outputs": [],
   "source": [
    "#My code below is a showcase for the different format which is listing number of jobs\n",
    "                #in each location from the list and attach with a type of skills\n",
    "                #you can try java or c#, data analytics...\n",
    "def number_of_jobs (skills, states):\n",
    "    api_url=\"http://127.0.0.1:5000/data\"\n",
    "    number_of_jobs_dict = {}\n",
    "    for location in states:\n",
    "        payload={\"Key Skills\": skills, \"Location\": location}\n",
    "        response=requests.get(api_url, params=payload)\n",
    "        if response.ok:\n",
    "            data=response.json()\n",
    "            number_of_jobs = len(data)\n",
    "            number_of_jobs_dict[location] = number_of_jobs\n",
    "    output_list = [f\"Skill: {skills}\"]\n",
    "    for location, number_of_jobs in number_of_jobs_dict.items():\n",
    "        output_list.append(f\"Location of Jobs: {location}: {number_of_jobs}\")\n",
    "    return output_list"
   ]
  },
  {
   "cell_type": "code",
   "execution_count": null,
   "metadata": {},
   "outputs": [],
   "source": [
    "number_of_jobs ('Python',states)"
   ]
  },
  {
   "cell_type": "markdown",
   "metadata": {},
   "source": [
    "#### In the similar way, you can try for below given technologies and results  can be stored in an excel sheet.\n"
   ]
  },
  {
   "cell_type": "markdown",
   "metadata": {},
   "source": [
    "Collect the number of job postings for the following languages using the API:\n",
    "\n",
    "*   C\n",
    "*   C#\n",
    "*   C++\n",
    "*   Java\n",
    "*   JavaScript\n",
    "*   Python\n",
    "*   Scala\n",
    "*   Oracle\n",
    "*   SQL Server\n",
    "*   MySQL Server\n",
    "*   PostgreSQL\n",
    "*   MongoDB\n"
   ]
  },
  {
   "cell_type": "code",
   "execution_count": 55,
   "metadata": {},
   "outputs": [],
   "source": [
    "# your code goes here\n",
    "technologies = [' C ', ' C|', 'C#', 'c#', 'C++', 'c++', 'Java ', 'Java|', 'java|','java ', 'JAVA ', 'JAVA|', 'JavaScript', 'Javascript','javascript', 'Python', 'Scala', 'SCALA', 'scala', 'Oracle', 'oracle', \\\n",
    "                ' SQL Server', ' sql', ' SQL', '|sql', '|SQL', 'MySQL', 'mysql', 'Mysql','PostgreSQL', 'PostGreSQL','postgresql','MongoDB', 'mongodb', 'MongoDb']\n",
    "\n",
    "def get_number_of_jobs_TL(technologies, states):\n",
    "    sum_list = []\n",
    "    for technology in technologies:\n",
    "        number_of_jobs_list = [technology]\n",
    "        for location in states:\n",
    "\n",
    "            payload={\"Key Skills\": technology, \"Location\": location}\n",
    "            response=requests.get(api_url, params=payload)\n",
    "            if response.ok:\n",
    "                data=response.json()\n",
    "                number_of_jobs = len(data)\n",
    "                number_of_jobs_list.append(number_of_jobs)\n",
    "            sum_list.append(number_of_jobs_list)\n",
    "    return sum_list\n"
   ]
  },
  {
   "cell_type": "code",
   "execution_count": 56,
   "metadata": {},
   "outputs": [
    {
     "data": {
      "text/plain": [
       "[[' C '],\n",
       " [' C '],\n",
       " [' C '],\n",
       " [' C '],\n",
       " [' C '],\n",
       " [' C '],\n",
       " [' C '],\n",
       " [' C|'],\n",
       " [' C|'],\n",
       " [' C|'],\n",
       " [' C|'],\n",
       " [' C|'],\n",
       " [' C|'],\n",
       " [' C|'],\n",
       " ['C#', 5, 41, 3, 68, 49, 5, 60],\n",
       " ['C#', 5, 41, 3, 68, 49, 5, 60],\n",
       " ['C#', 5, 41, 3, 68, 49, 5, 60],\n",
       " ['C#', 5, 41, 3, 68, 49, 5, 60],\n",
       " ['C#', 5, 41, 3, 68, 49, 5, 60],\n",
       " ['C#', 5, 41, 3, 68, 49, 5, 60],\n",
       " ['C#', 5, 41, 3, 68, 49, 5, 60],\n",
       " ['c#'],\n",
       " ['c#'],\n",
       " ['c#'],\n",
       " ['c#'],\n",
       " ['c#'],\n",
       " ['c#'],\n",
       " ['c#'],\n",
       " ['C++', 3, 43, 3, 55, 41, 4, 32],\n",
       " ['C++', 3, 43, 3, 55, 41, 4, 32],\n",
       " ['C++', 3, 43, 3, 55, 41, 4, 32],\n",
       " ['C++', 3, 43, 3, 55, 41, 4, 32],\n",
       " ['C++', 3, 43, 3, 55, 41, 4, 32],\n",
       " ['C++', 3, 43, 3, 55, 41, 4, 32],\n",
       " ['C++', 3, 43, 3, 55, 41, 4, 32],\n",
       " ['c++'],\n",
       " ['c++'],\n",
       " ['c++'],\n",
       " ['c++'],\n",
       " ['c++'],\n",
       " ['c++'],\n",
       " ['c++'],\n",
       " ['Java '],\n",
       " ['Java '],\n",
       " ['Java '],\n",
       " ['Java '],\n",
       " ['Java '],\n",
       " ['Java '],\n",
       " ['Java '],\n",
       " ['Java|'],\n",
       " ['Java|'],\n",
       " ['Java|'],\n",
       " ['Java|'],\n",
       " ['Java|'],\n",
       " ['Java|'],\n",
       " ['Java|'],\n",
       " ['java|'],\n",
       " ['java|'],\n",
       " ['java|'],\n",
       " ['java|'],\n",
       " ['java|'],\n",
       " ['java|'],\n",
       " ['java|'],\n",
       " ['java '],\n",
       " ['java '],\n",
       " ['java '],\n",
       " ['java '],\n",
       " ['java '],\n",
       " ['java '],\n",
       " ['java '],\n",
       " ['JAVA '],\n",
       " ['JAVA '],\n",
       " ['JAVA '],\n",
       " ['JAVA '],\n",
       " ['JAVA '],\n",
       " ['JAVA '],\n",
       " ['JAVA '],\n",
       " ['JAVA|'],\n",
       " ['JAVA|'],\n",
       " ['JAVA|'],\n",
       " ['JAVA|'],\n",
       " ['JAVA|'],\n",
       " ['JAVA|'],\n",
       " ['JAVA|'],\n",
       " ['JavaScript', 7, 51, 7, 61, 52, 5, 41],\n",
       " ['JavaScript', 7, 51, 7, 61, 52, 5, 41],\n",
       " ['JavaScript', 7, 51, 7, 61, 52, 5, 41],\n",
       " ['JavaScript', 7, 51, 7, 61, 52, 5, 41],\n",
       " ['JavaScript', 7, 51, 7, 61, 52, 5, 41],\n",
       " ['JavaScript', 7, 51, 7, 61, 52, 5, 41],\n",
       " ['JavaScript', 7, 51, 7, 61, 52, 5, 41],\n",
       " ['Javascript'],\n",
       " ['Javascript'],\n",
       " ['Javascript'],\n",
       " ['Javascript'],\n",
       " ['Javascript'],\n",
       " ['Javascript'],\n",
       " ['Javascript'],\n",
       " ['javascript'],\n",
       " ['javascript'],\n",
       " ['javascript'],\n",
       " ['javascript'],\n",
       " ['javascript'],\n",
       " ['javascript'],\n",
       " ['javascript'],\n",
       " ['Python', 24, 143, 17, 258, 133, 15, 170],\n",
       " ['Python', 24, 143, 17, 258, 133, 15, 170],\n",
       " ['Python', 24, 143, 17, 258, 133, 15, 170],\n",
       " ['Python', 24, 143, 17, 258, 133, 15, 170],\n",
       " ['Python', 24, 143, 17, 258, 133, 15, 170],\n",
       " ['Python', 24, 143, 17, 258, 133, 15, 170],\n",
       " ['Python', 24, 143, 17, 258, 133, 15, 170],\n",
       " ['Scala', 0, 8, 0, 3, 4, 1, 5],\n",
       " ['Scala', 0, 8, 0, 3, 4, 1, 5],\n",
       " ['Scala', 0, 8, 0, 3, 4, 1, 5],\n",
       " ['Scala', 0, 8, 0, 3, 4, 1, 5],\n",
       " ['Scala', 0, 8, 0, 3, 4, 1, 5],\n",
       " ['Scala', 0, 8, 0, 3, 4, 1, 5],\n",
       " ['Scala', 0, 8, 0, 3, 4, 1, 5],\n",
       " ['SCALA'],\n",
       " ['SCALA'],\n",
       " ['SCALA'],\n",
       " ['SCALA'],\n",
       " ['SCALA'],\n",
       " ['SCALA'],\n",
       " ['SCALA'],\n",
       " ['scala'],\n",
       " ['scala'],\n",
       " ['scala'],\n",
       " ['scala'],\n",
       " ['scala'],\n",
       " ['scala'],\n",
       " ['scala'],\n",
       " ['Oracle', 17, 95, 19, 143, 110, 11, 115],\n",
       " ['Oracle', 17, 95, 19, 143, 110, 11, 115],\n",
       " ['Oracle', 17, 95, 19, 143, 110, 11, 115],\n",
       " ['Oracle', 17, 95, 19, 143, 110, 11, 115],\n",
       " ['Oracle', 17, 95, 19, 143, 110, 11, 115],\n",
       " ['Oracle', 17, 95, 19, 143, 110, 11, 115],\n",
       " ['Oracle', 17, 95, 19, 143, 110, 11, 115],\n",
       " ['oracle'],\n",
       " ['oracle'],\n",
       " ['oracle'],\n",
       " ['oracle'],\n",
       " ['oracle'],\n",
       " ['oracle'],\n",
       " ['oracle'],\n",
       " [' SQL Server'],\n",
       " [' SQL Server'],\n",
       " [' SQL Server'],\n",
       " [' SQL Server'],\n",
       " [' SQL Server'],\n",
       " [' SQL Server'],\n",
       " [' SQL Server'],\n",
       " [' sql'],\n",
       " [' sql'],\n",
       " [' sql'],\n",
       " [' sql'],\n",
       " [' sql'],\n",
       " [' sql'],\n",
       " [' sql'],\n",
       " [' SQL'],\n",
       " [' SQL'],\n",
       " [' SQL'],\n",
       " [' SQL'],\n",
       " [' SQL'],\n",
       " [' SQL'],\n",
       " [' SQL'],\n",
       " ['|sql'],\n",
       " ['|sql'],\n",
       " ['|sql'],\n",
       " ['|sql'],\n",
       " ['|sql'],\n",
       " ['|sql'],\n",
       " ['|sql'],\n",
       " ['|SQL'],\n",
       " ['|SQL'],\n",
       " ['|SQL'],\n",
       " ['|SQL'],\n",
       " ['|SQL'],\n",
       " ['|SQL'],\n",
       " ['|SQL'],\n",
       " ['MySQL'],\n",
       " ['MySQL'],\n",
       " ['MySQL'],\n",
       " ['MySQL'],\n",
       " ['MySQL'],\n",
       " ['MySQL'],\n",
       " ['MySQL'],\n",
       " ['mysql'],\n",
       " ['mysql'],\n",
       " ['mysql'],\n",
       " ['mysql'],\n",
       " ['mysql'],\n",
       " ['mysql'],\n",
       " ['mysql'],\n",
       " ['Mysql'],\n",
       " ['Mysql'],\n",
       " ['Mysql'],\n",
       " ['Mysql'],\n",
       " ['Mysql'],\n",
       " ['Mysql'],\n",
       " ['Mysql'],\n",
       " ['PostgreSQL', 0, 1, 0, 3, 1, 0, 2],\n",
       " ['PostgreSQL', 0, 1, 0, 3, 1, 0, 2],\n",
       " ['PostgreSQL', 0, 1, 0, 3, 1, 0, 2],\n",
       " ['PostgreSQL', 0, 1, 0, 3, 1, 0, 2],\n",
       " ['PostgreSQL', 0, 1, 0, 3, 1, 0, 2],\n",
       " ['PostgreSQL', 0, 1, 0, 3, 1, 0, 2],\n",
       " ['PostgreSQL', 0, 1, 0, 3, 1, 0, 2],\n",
       " ['PostGreSQL'],\n",
       " ['PostGreSQL'],\n",
       " ['PostGreSQL'],\n",
       " ['PostGreSQL'],\n",
       " ['PostGreSQL'],\n",
       " ['PostGreSQL'],\n",
       " ['PostGreSQL'],\n",
       " ['postgresql'],\n",
       " ['postgresql'],\n",
       " ['postgresql'],\n",
       " ['postgresql'],\n",
       " ['postgresql'],\n",
       " ['postgresql'],\n",
       " ['postgresql'],\n",
       " ['MongoDB', 2, 25, 2, 32, 21, 1, 25],\n",
       " ['MongoDB', 2, 25, 2, 32, 21, 1, 25],\n",
       " ['MongoDB', 2, 25, 2, 32, 21, 1, 25],\n",
       " ['MongoDB', 2, 25, 2, 32, 21, 1, 25],\n",
       " ['MongoDB', 2, 25, 2, 32, 21, 1, 25],\n",
       " ['MongoDB', 2, 25, 2, 32, 21, 1, 25],\n",
       " ['MongoDB', 2, 25, 2, 32, 21, 1, 25],\n",
       " ['mongodb'],\n",
       " ['mongodb'],\n",
       " ['mongodb'],\n",
       " ['mongodb'],\n",
       " ['mongodb'],\n",
       " ['mongodb'],\n",
       " ['mongodb'],\n",
       " ['MongoDb'],\n",
       " ['MongoDb'],\n",
       " ['MongoDb'],\n",
       " ['MongoDb'],\n",
       " ['MongoDb'],\n",
       " ['MongoDb'],\n",
       " ['MongoDb']]"
      ]
     },
     "execution_count": 56,
     "metadata": {},
     "output_type": "execute_result"
    }
   ],
   "source": [
    "get_number_of_jobs_TL(technologies, states)"
   ]
  },
  {
   "cell_type": "markdown",
   "metadata": {},
   "source": [
    "## Author\n"
   ]
  },
  {
   "cell_type": "markdown",
   "metadata": {},
   "source": [
    "Ayushi Jain\n"
   ]
  },
  {
   "cell_type": "markdown",
   "metadata": {},
   "source": [
    "### Other Contributors\n"
   ]
  },
  {
   "cell_type": "markdown",
   "metadata": {},
   "source": [
    "Rav Ahuja\n",
    "\n",
    "Lakshmi Holla\n",
    "\n",
    "Malika\n"
   ]
  },
  {
   "cell_type": "markdown",
   "metadata": {},
   "source": [
    "## Change Log\n"
   ]
  },
  {
   "cell_type": "markdown",
   "metadata": {},
   "source": [
    "| Date (YYYY-MM-DD) | Version | Changed By        | Change Description                 |\n",
    "| ----------------- | ------- | ----------------- | ---------------------------------- | \n",
    "| 2022-01-19        | 0.3     | Lakshmi Holla        | Added changes in the markdown      |\n",
    "| 2021-06-25        | 0.2     | Malika            | Updated GitHub job json link       |\n",
    "| 2020-10-17        | 0.1     | Ramesh Sannareddy | Created initial version of the lab |\n"
   ]
  },
  {
   "cell_type": "markdown",
   "metadata": {},
   "source": [
    "Copyright © 2022 IBM Corporation. All rights reserved. \n"
   ]
  }
 ],
 "metadata": {
  "kernelspec": {
   "display_name": "Python 3 (ipykernel)",
   "language": "python",
   "name": "python3"
  },
  "language_info": {
   "codemirror_mode": {
    "name": "ipython",
    "version": 3
   },
   "file_extension": ".py",
   "mimetype": "text/x-python",
   "name": "python",
   "nbconvert_exporter": "python",
   "pygments_lexer": "ipython3",
   "version": "3.9.12"
  }
 },
 "nbformat": 4,
 "nbformat_minor": 4
}
